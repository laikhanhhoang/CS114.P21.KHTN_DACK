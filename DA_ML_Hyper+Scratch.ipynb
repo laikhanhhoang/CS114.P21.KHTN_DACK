{
  "nbformat": 4,
  "nbformat_minor": 0,
  "metadata": {
    "colab": {
      "provenance": []
    },
    "kernelspec": {
      "name": "python3",
      "display_name": "Python 3"
    },
    "language_info": {
      "name": "python"
    }
  },
  "cells": [
    {
      "cell_type": "code",
      "execution_count": 15,
      "metadata": {
        "id": "ykZlkQaJgvpa"
      },
      "outputs": [],
      "source": [
        "import pandas as pd\n",
        "import numpy as np\n",
        "from sklearn.preprocessing import LabelEncoder\n",
        "from sklearn.preprocessing import RobustScaler\n",
        "\n",
        "df = pd.read_csv('/content/healthcare-dataset-stroke-data.csv')\n",
        "df.rename(columns={'avg_glucose_level': 'glucose'}, inplace=True)\n",
        "df.drop(['id'],axis=1,inplace=True)\n",
        "df['bmi'] = df['bmi'].fillna(df['bmi'].mean())\n",
        "\n",
        "def cap_upper_outliers(series):\n",
        "    upper = series.quantile(0.75) + 1.5 * (series.quantile(0.75) - series.quantile(0.25))\n",
        "    return series.clip(upper=upper)\n",
        "\n",
        "df['bmi'] = cap_upper_outliers(df['bmi'])\n",
        "df['glucose'] = np.log(df['glucose'] + 1)\n",
        "\n",
        "numeric_cols = [\"age\", \"glucose\", \"bmi\"]\n",
        "scaler = RobustScaler()\n",
        "df[numeric_cols] = scaler.fit_transform(df[numeric_cols])\n",
        "cate_cols = df.columns.difference(numeric_cols)\n",
        "encoder = LabelEncoder()\n",
        "for col in cate_cols:\n",
        "    df[col] = encoder.fit_transform(df[col])\n",
        "\n",
        "from sklearn.model_selection import train_test_split\n",
        "X = df.drop(columns=[\"stroke\"])\n",
        "y = df[\"stroke\"]\n",
        "X_train, X_val, y_train, y_val = train_test_split(\n",
        "    X, y, test_size=0.2, random_state=42, stratify=y\n",
        ")"
      ]
    },
    {
      "cell_type": "markdown",
      "source": [
        "# Hàm train"
      ],
      "metadata": {
        "id": "GPe7BeCui_M4"
      }
    },
    {
      "cell_type": "code",
      "source": [
        "import matplotlib.pyplot as plt\n",
        "import seaborn as sns\n",
        "from sklearn.linear_model import LogisticRegression\n",
        "from sklearn.tree import DecisionTreeClassifier\n",
        "from sklearn.ensemble import RandomForestClassifier\n",
        "from xgboost import XGBClassifier\n",
        "from sklearn.metrics import accuracy_score, precision_score, recall_score, f1_score, roc_auc_score\n",
        "\n",
        "from sklearn.model_selection import GridSearchCV\n",
        "\n",
        "def comp_model(X_train, y_train, X_test, y_test, metrics):\n",
        "\n",
        "    models = {\n",
        "        \"LR\": (LogisticRegression(random_state=42, max_iter=1000), {\n",
        "            \"C\": [0.01, 0.1, 1, 10]\n",
        "        }),\n",
        "        \"DTree\": (DecisionTreeClassifier(random_state=42), {\n",
        "            \"max_depth\": [3, 5, 10, None]\n",
        "        }),\n",
        "        \"RForest\": (RandomForestClassifier(random_state=42), {\n",
        "            \"n_estimators\": [50, 100],\n",
        "            \"max_depth\": [5, 10, None],\n",
        "            \"max_features\": [\"sqrt\", \"log2\"]\n",
        "        }),\n",
        "\n",
        "    }\n",
        "\n",
        "    train_scores = {metric: [] for metric in metrics}\n",
        "    test_scores = {metric: [] for metric in metrics}\n",
        "\n",
        "    for name, (model, params) in models.items():\n",
        "        print(f\"Tuning {name}...\")\n",
        "        clf = GridSearchCV(model, params, cv=5, scoring='f1', n_jobs=-1)  # cv=5 ở đây\n",
        "        clf.fit(X_train, y_train)\n",
        "        print(f\"Best parameters for {name}: {clf.best_params_}\")\n",
        "        best_model = clf.best_estimator_\n",
        "\n",
        "        y_train_pred = best_model.predict(X_train)\n",
        "        y_test_pred = best_model.predict(X_test)\n",
        "        y_train_proba = best_model.predict_proba(X_train)[:, 1] if hasattr(best_model, \"predict_proba\") else None\n",
        "        y_test_proba = best_model.predict_proba(X_test)[:, 1] if hasattr(best_model, \"predict_proba\") else None\n",
        "\n",
        "        train_scores[\"Accuracy\"].append(accuracy_score(y_train, y_train_pred))\n",
        "        train_scores[\"F1 Score\"].append(f1_score(y_train, y_train_pred))\n",
        "        train_scores[\"AUC\"].append(roc_auc_score(y_train, y_train_proba) if y_train_proba is not None else 0)\n",
        "        test_scores[\"Accuracy\"].append(accuracy_score(y_test, y_test_pred))\n",
        "        test_scores[\"F1 Score\"].append(f1_score(y_test, y_test_pred))\n",
        "        test_scores[\"AUC\"].append(roc_auc_score(y_test, y_test_proba) if y_test_proba is not None else 0)\n",
        "        print(f\"F1-Score for Train Dataset {name}: {f1_score(y_train, y_train_pred)}\")\n",
        "        print(f\"F1-Score for Valid Dataset {name}: {f1_score(y_test, y_test_pred)}\")\n",
        "\n",
        "    # Vẽ biểu đồ như cũ\n",
        "    plt.figure(figsize=(8, 6))\n",
        "    for i, metric in enumerate(metrics):\n",
        "        plt.subplot(2, 3, i + 1)\n",
        "        sns.barplot(x=list(models.keys()), y=train_scores[metric], color=\"skyblue\", label=\"Train\", width=0.5)\n",
        "        sns.barplot(x=list(models.keys()), y=test_scores[metric], color=\"salmon\", alpha=0.8, label=\"Test\", width=0.5)\n",
        "        plt.title(metric, fontsize=12)\n",
        "        plt.xticks(rotation=45, fontsize=9)\n",
        "        plt.ylabel(metric, fontsize=10)\n",
        "        plt.legend(fontsize=9)\n",
        "    plt.tight_layout()\n",
        "    plt.subplots_adjust(hspace=0.3, wspace=0.3)\n",
        "    plt.show()\n"
      ],
      "metadata": {
        "id": "xqBI6VzOi8UR"
      },
      "execution_count": 16,
      "outputs": []
    },
    {
      "cell_type": "markdown",
      "source": [
        "# Trước khi sử dụng SMOTE"
      ],
      "metadata": {
        "id": "W0sVhZh-iuID"
      }
    },
    {
      "cell_type": "code",
      "source": [
        "metrics = [\"Accuracy\", \"F1 Score\",  \"AUC\"]\n",
        "comp_model(X_train, y_train, X_val, y_val, metrics)"
      ],
      "metadata": {
        "colab": {
          "base_uri": "https://localhost:8080/",
          "height": 566
        },
        "id": "s8aZgYJIjcvY",
        "outputId": "23974758-b4ab-42ae-a411-7df3d241569c"
      },
      "execution_count": 17,
      "outputs": [
        {
          "output_type": "stream",
          "name": "stdout",
          "text": [
            "Tuning LR...\n",
            "Best parameters for LR: {'C': 0.01}\n",
            "F1-Score for Train Dataset LR: 0.0\n",
            "F1-Score for Valid Dataset LR: 0.0\n",
            "Tuning DTree...\n",
            "Best parameters for DTree: {'max_depth': None}\n",
            "F1-Score for Train Dataset DTree: 1.0\n",
            "F1-Score for Valid Dataset DTree: 0.22807017543859648\n",
            "Tuning RForest...\n",
            "Best parameters for RForest: {'max_depth': None, 'max_features': 'sqrt', 'n_estimators': 50}\n",
            "F1-Score for Train Dataset RForest: 0.9924050632911392\n",
            "F1-Score for Valid Dataset RForest: 0.037037037037037035\n"
          ]
        },
        {
          "output_type": "display_data",
          "data": {
            "text/plain": [
              "<Figure size 800x600 with 3 Axes>"
            ],
            "image/png": "[encoded data removed]"
          },
          "metadata": {}
        }
      ]
    },
    {
      "cell_type": "markdown",
      "source": [
        "# Thêm hai mô hình Elastic Net và XGBoost"
      ],
      "metadata": {
        "id": "kCDWBniNhXQx"
      }
    },
    {
      "cell_type": "code",
      "source": [
        "import numpy as np\n",
        "import matplotlib.pyplot as plt\n",
        "import seaborn as sns\n",
        "from sklearn.metrics import f1_score, recall_score, accuracy_score\n",
        "\n",
        "\n",
        "def comp_model(X_train, y_train, X_test, y_test):\n",
        "    from sklearn.linear_model import LogisticRegression\n",
        "    from sklearn.tree import DecisionTreeClassifier\n",
        "    from sklearn.ensemble import RandomForestClassifier\n",
        "    from xgboost import XGBClassifier\n",
        "    from sklearn.model_selection import GridSearchCV\n",
        "\n",
        "    models = {\n",
        "        \"LR\": (LogisticRegression(penalty=None, solver='lbfgs', max_iter=1000), {}),\n",
        "        \"ElasticNet\": (LogisticRegression(\n",
        "            penalty='elasticnet',\n",
        "            solver='saga',\n",
        "            random_state=42,\n",
        "            max_iter=1000\n",
        "        ), {\n",
        "            \"C\": [0.01, 0.1, 1, 10],\n",
        "            \"l1_ratio\": [0.1, 0.5, 0.9]\n",
        "        }),\n",
        "        \"DTree\": (DecisionTreeClassifier(random_state=42), {\n",
        "            \"max_depth\": [3, 5, 10, None]\n",
        "        }),\n",
        "        \"RForest\": (RandomForestClassifier(random_state=42), {\n",
        "            \"n_estimators\": [50, 100],\n",
        "            \"max_depth\": [5, 10, None],\n",
        "            \"max_features\": [\"sqrt\", \"log2\", None]\n",
        "        }),\n",
        "        \"XGBoost\": (XGBClassifier(use_label_encoder=False, eval_metric='logloss', random_state=42), {\n",
        "            \"n_estimators\": [50, 100],\n",
        "            \"max_depth\": [3, 5],\n",
        "            \"learning_rate\": [0.05, 0.1]\n",
        "        })\n",
        "    }\n",
        "\n",
        "    train_f1s = []\n",
        "    test_f1s = []\n",
        "    train_accs = []\n",
        "    test_accs = []\n",
        "    train_recall = []\n",
        "    test_recall = []\n",
        "\n",
        "    for name, (model, params) in models.items():\n",
        "        print(f\"Tuning {name} ...\")\n",
        "        clf = GridSearchCV(model, params, scoring='recall', cv=5, n_jobs=-1)\n",
        "        clf.fit(X_train, y_train)\n",
        "        best_model = clf.best_estimator_\n",
        "\n",
        "        y_train_pred = best_model.predict(X_train)\n",
        "        y_test_pred = best_model.predict(X_test)\n",
        "\n",
        "        train_f1s.append(f1_score(y_train, y_train_pred))\n",
        "        test_f1s.append(f1_score(y_test, y_test_pred))\n",
        "        train_accs.append(accuracy_score(y_train, y_train_pred))\n",
        "        test_accs.append(accuracy_score(y_test, y_test_pred))\n",
        "        train_recall.append(recall_score(y_train, y_train_pred))\n",
        "        test_recall.append(recall_score(y_test, y_test_pred))\n",
        "\n",
        "    # Vẽ biểu đồ Recall train vs test\n",
        "    plt.figure(figsize=(10, 6))\n",
        "    sns.barplot(x=list(models.keys()), y=train_recall, color=\"skyblue\", label=\"Train Recall\")\n",
        "    sns.barplot(x=list(models.keys()), y=test_recall, color=\"salmon\", alpha=0.7, label=\"Test Recall\")\n",
        "    plt.title(\"Recall Scores on Train and Validation Sets\")\n",
        "    plt.ylabel(\"Recall Score\")\n",
        "    plt.xticks(rotation=45)\n",
        "    plt.legend()\n",
        "    plt.show()"
      ],
      "metadata": {
        "id": "tkkjlTr9rV0Z"
      },
      "execution_count": 18,
      "outputs": []
    },
    {
      "cell_type": "code",
      "source": [
        "comp_model(X_train, y_train, X_val, y_val)"
      ],
      "metadata": {
        "colab": {
          "base_uri": "https://localhost:8080/",
          "height": 753
        },
        "id": "HCCdOm5crY-x",
        "outputId": "3900fa9d-72a6-4c36-9e04-14f95e6fad62"
      },
      "execution_count": 19,
      "outputs": [
        {
          "output_type": "stream",
          "name": "stdout",
          "text": [
            "Tuning LR ...\n",
            "Tuning ElasticNet ...\n",
            "Tuning DTree ...\n",
            "Tuning RForest ...\n",
            "Tuning XGBoost ...\n"
          ]
        },
        {
          "output_type": "stream",
          "name": "stderr",
          "text": [
            "/usr/local/lib/python3.11/dist-packages/xgboost/core.py:158: UserWarning: [13:26:53] WARNING: /workspace/src/learner.cc:740: \n",
            "Parameters: { \"use_label_encoder\" } are not used.\n",
            "\n",
            "  warnings.warn(smsg, UserWarning)\n"
          ]
        },
        {
          "output_type": "display_data",
          "data": {
            "text/plain": [
              "<Figure size 1000x600 with 1 Axes>"
            ],
            "image/png": "[encoded data removed]"
          },
          "metadata": {}
        }
      ]
    },
    {
      "cell_type": "markdown",
      "source": [
        "# Sau khi sử dụng Borderline-SMOTE"
      ],
      "metadata": {
        "id": "DaB1Q366iwP2"
      }
    },
    {
      "cell_type": "code",
      "source": [
        "from imblearn.over_sampling import BorderlineSMOTE\n",
        "borderline_smote = BorderlineSMOTE(random_state=42, kind='borderline-2')\n",
        "X_train2, y_train2 = borderline_smote.fit_resample(X_train, y_train)\n",
        "best_thresholds = comp_model(X_train2, y_train2, X_val, y_val)\n"
      ],
      "metadata": {
        "colab": {
          "base_uri": "https://localhost:8080/",
          "height": 753
        },
        "id": "SSG5a9nfnzF1",
        "outputId": "b2a2b57f-6c00-4261-ab23-4f47493e8888"
      },
      "execution_count": 20,
      "outputs": [
        {
          "output_type": "stream",
          "name": "stdout",
          "text": [
            "Tuning LR ...\n",
            "Tuning ElasticNet ...\n",
            "Tuning DTree ...\n",
            "Tuning RForest ...\n",
            "Tuning XGBoost ...\n"
          ]
        },
        {
          "output_type": "stream",
          "name": "stderr",
          "text": [
            "/usr/local/lib/python3.11/dist-packages/xgboost/core.py:158: UserWarning: [13:28:02] WARNING: /workspace/src/learner.cc:740: \n",
            "Parameters: { \"use_label_encoder\" } are not used.\n",
            "\n",
            "  warnings.warn(smsg, UserWarning)\n"
          ]
        },
        {
          "output_type": "display_data",
          "data": {
            "text/plain": [
              "<Figure size 1000x600 with 1 Axes>"
            ],
            "image/png": "[encoded data removed]"
          },
          "metadata": {}
        }
      ]
    },
    {
      "cell_type": "markdown",
      "source": [
        "# Dùng SMOTE"
      ],
      "metadata": {
        "id": "CF95f5pntMC1"
      }
    },
    {
      "cell_type": "code",
      "source": [
        "from imblearn.over_sampling import SMOTE\n",
        "smote = SMOTE(random_state=42)\n",
        "X_train2, y_train2 = smote.fit_resample(X_train, y_train)\n",
        "comp_model(X_train2, y_train2, X_val, y_val)\n"
      ],
      "metadata": {
        "colab": {
          "base_uri": "https://localhost:8080/",
          "height": 753
        },
        "id": "iLrBb2CptNR7",
        "outputId": "726b9631-df35-4a12-b94b-f87e51251f8c",
        "collapsed": true
      },
      "execution_count": 21,
      "outputs": [
        {
          "output_type": "stream",
          "name": "stdout",
          "text": [
            "Tuning LR ...\n",
            "Tuning ElasticNet ...\n",
            "Tuning DTree ...\n",
            "Tuning RForest ...\n",
            "Tuning XGBoost ...\n"
          ]
        },
        {
          "output_type": "stream",
          "name": "stderr",
          "text": [
            "/usr/local/lib/python3.11/dist-packages/xgboost/core.py:158: UserWarning: [13:29:17] WARNING: /workspace/src/learner.cc:740: \n",
            "Parameters: { \"use_label_encoder\" } are not used.\n",
            "\n",
            "  warnings.warn(smsg, UserWarning)\n"
          ]
        },
        {
          "output_type": "display_data",
          "data": {
            "text/plain": [
              "<Figure size 1000x600 with 1 Axes>"
            ],
            "image/png": "[encoded data removed]"
          },
          "metadata": {}
        }
      ]
    },
    {
      "cell_type": "markdown",
      "source": [
        "# Random Oversampling"
      ],
      "metadata": {
        "id": "-EWJ-0mGgglX"
      }
    },
    {
      "cell_type": "code",
      "source": [
        "from imblearn.over_sampling import RandomOverSampler\n",
        "ros = RandomOverSampler(random_state=42)\n",
        "X_train2, y_train2 = ros.fit_resample(X_train, y_train)\n",
        "best_thresholds = comp_model(X_train2, y_train2, X_val, y_val)"
      ],
      "metadata": {
        "colab": {
          "base_uri": "https://localhost:8080/",
          "height": 753
        },
        "id": "397c6yr8t0-w",
        "outputId": "e493b7fa-0e3f-49ff-e99c-99bbb0b47a29"
      },
      "execution_count": 22,
      "outputs": [
        {
          "output_type": "stream",
          "name": "stdout",
          "text": [
            "Tuning LR ...\n",
            "Tuning ElasticNet ...\n",
            "Tuning DTree ...\n",
            "Tuning RForest ...\n",
            "Tuning XGBoost ...\n"
          ]
        },
        {
          "output_type": "stream",
          "name": "stderr",
          "text": [
            "/usr/local/lib/python3.11/dist-packages/xgboost/core.py:158: UserWarning: [13:30:05] WARNING: /workspace/src/learner.cc:740: \n",
            "Parameters: { \"use_label_encoder\" } are not used.\n",
            "\n",
            "  warnings.warn(smsg, UserWarning)\n"
          ]
        },
        {
          "output_type": "display_data",
          "data": {
            "text/plain": [
              "<Figure size 1000x600 with 1 Axes>"
            ],
            "image/png": "[encoded data removed]"
          },
          "metadata": {}
        }
      ]
    },
    {
      "cell_type": "markdown",
      "source": [
        "# In ra các tham số tối ưu để code scratch"
      ],
      "metadata": {
        "id": "AUQOF3dnhlqy"
      }
    },
    {
      "cell_type": "code",
      "source": [
        "from imblearn.over_sampling import SMOTE\n",
        "smote = SMOTE(random_state=42)\n",
        "X_train2, y_train2 = smote.fit_resample(X_train, y_train)\n",
        "\n",
        "import numpy as np\n",
        "import matplotlib.pyplot as plt\n",
        "import seaborn as sns\n",
        "from sklearn.metrics import f1_score, recall_score, accuracy_score\n",
        "\n",
        "def comp_model(X_train, y_train, X_test, y_test):\n",
        "    from sklearn.linear_model import LogisticRegression\n",
        "    from sklearn.tree import DecisionTreeClassifier\n",
        "    from sklearn.ensemble import RandomForestClassifier\n",
        "    from xgboost import XGBClassifier\n",
        "    from sklearn.model_selection import GridSearchCV\n",
        "\n",
        "    models = {\n",
        "        \"LR\": (LogisticRegression(penalty=None, solver='lbfgs', max_iter=1000), {}),\n",
        "        \"ElasticNet\": (LogisticRegression(\n",
        "            penalty='elasticnet',\n",
        "            solver='saga',\n",
        "            random_state=42,\n",
        "            max_iter=1000\n",
        "        ), {\n",
        "            \"C\": [0.01, 0.1, 1, 10],\n",
        "            \"l1_ratio\": [0.1, 0.5, 0.9]\n",
        "        }),\n",
        "        \"DTree\": (DecisionTreeClassifier(random_state=42), {\n",
        "            \"max_depth\": [3, 5, 10]\n",
        "        }),\n",
        "        \"RForest\": (RandomForestClassifier(random_state=42), {\n",
        "            \"n_estimators\": [50, 100],\n",
        "            \"max_depth\": [5, 10, None],\n",
        "            \"max_features\": [\"sqrt\", \"log2\", None]\n",
        "        }),\n",
        "        \"XGBoost\": (XGBClassifier(use_label_encoder=False, eval_metric='logloss', random_state=42), {\n",
        "            \"n_estimators\": [50, 100],\n",
        "            \"max_depth\": [3, 5],\n",
        "            \"learning_rate\": [0.05, 0.1]\n",
        "        })\n",
        "    }\n",
        "\n",
        "    for name, (model, params) in models.items():\n",
        "        print(f\"Tuning {name} ...\")\n",
        "        clf = GridSearchCV(model, params, scoring='recall', cv=5, n_jobs=-1)\n",
        "        clf.fit(X_train, y_train)\n",
        "        print(f\"Best parameters for {name}: {clf.best_params_}\")\n",
        "\n",
        "        best_model = clf.best_estimator_\n",
        "\n",
        "        y_train_pred = best_model.predict(X_train)\n",
        "        y_test_pred = best_model.predict(X_test)\n",
        "\n",
        "        train_acc = accuracy_score(y_train, y_train_pred)\n",
        "        test_acc = accuracy_score(y_test, y_test_pred)\n",
        "        train_rec = recall_score(y_train, y_train_pred)\n",
        "        test_rec = recall_score(y_test, y_test_pred)\n",
        "\n",
        "        print(f\"{name} - Train Accuracy: {train_acc:.4f}, Test Accuracy: {test_acc:.4f}\")\n",
        "        print(f\"{name} - Train Recall: {train_rec:.4f}, Test Recall: {test_rec:.4f}\\n\")\n",
        "\n",
        "\n",
        "comp_model(X_train2, y_train2, X_val, y_val)"
      ],
      "metadata": {
        "colab": {
          "base_uri": "https://localhost:8080/"
        },
        "id": "WZpBGrlahoRL",
        "outputId": "e7043482-5c27-4775-9ef2-b626c78f67ca"
      },
      "execution_count": 27,
      "outputs": [
        {
          "output_type": "stream",
          "name": "stdout",
          "text": [
            "Tuning LR ...\n",
            "Best parameters for LR: {}\n",
            "LR - Train Accuracy: 0.7915, Test Accuracy: 0.7583\n",
            "LR - Train Recall: 0.8354, Test Recall: 0.7800\n",
            "\n",
            "Tuning ElasticNet ...\n",
            "Best parameters for ElasticNet: {'C': 0.01, 'l1_ratio': 0.5}\n",
            "ElasticNet - Train Accuracy: 0.7868, Test Accuracy: 0.7427\n",
            "ElasticNet - Train Recall: 0.8460, Test Recall: 0.8000\n",
            "\n",
            "Tuning DTree ...\n",
            "Best parameters for DTree: {'max_depth': 5}\n",
            "DTree - Train Accuracy: 0.8244, Test Accuracy: 0.6967\n",
            "DTree - Train Recall: 0.9717, Test Recall: 0.7800\n",
            "\n",
            "Tuning RForest ...\n",
            "Best parameters for RForest: {'max_depth': 10, 'max_features': None, 'n_estimators': 50}\n",
            "RForest - Train Accuracy: 0.9193, Test Accuracy: 0.8219\n",
            "RForest - Train Recall: 0.9979, Test Recall: 0.7000\n",
            "\n",
            "Tuning XGBoost ...\n",
            "Best parameters for XGBoost: {'learning_rate': 0.05, 'max_depth': 5, 'n_estimators': 50}\n",
            "XGBoost - Train Accuracy: 0.8555, Test Accuracy: 0.7515\n",
            "XGBoost - Train Recall: 0.9619, Test Recall: 0.7200\n",
            "\n"
          ]
        },
        {
          "output_type": "stream",
          "name": "stderr",
          "text": [
            "/usr/local/lib/python3.11/dist-packages/xgboost/core.py:158: UserWarning: [13:44:43] WARNING: /workspace/src/learner.cc:740: \n",
            "Parameters: { \"use_label_encoder\" } are not used.\n",
            "\n",
            "  warnings.warn(smsg, UserWarning)\n"
          ]
        }
      ]
    },
    {
      "cell_type": "markdown",
      "source": [
        "# So sánh Code thư viện và from scratch"
      ],
      "metadata": {
        "id": "crEZ2GxvtYIc"
      }
    },
    {
      "cell_type": "markdown",
      "source": [
        "## LR"
      ],
      "metadata": {
        "id": "MNqolkXltbT3"
      }
    },
    {
      "cell_type": "code",
      "source": [
        "lr = LogisticRegression(penalty=None, solver='lbfgs', max_iter=1000)\n",
        "lr.fit(X_train2, y_train2)\n",
        "y_val_pred = lr.predict(X_val)\n",
        "print(accuracy_score(y_val, y_val_pred), recall_score(y_val, y_val_pred), f1_score(y_val, y_val_pred))"
      ],
      "metadata": {
        "colab": {
          "base_uri": "https://localhost:8080/"
        },
        "id": "ll7Up5ErlFxf",
        "outputId": "4e94769c-64ad-41fb-d58e-eccc9a899802"
      },
      "execution_count": 32,
      "outputs": [
        {
          "output_type": "stream",
          "name": "stdout",
          "text": [
            "0.7583170254403131 0.78 0.24\n"
          ]
        }
      ]
    },
    {
      "cell_type": "code",
      "source": [
        "import joblib\n",
        "joblib.dump(lr, 'lr_model.joblib')"
      ],
      "metadata": {
        "colab": {
          "base_uri": "https://localhost:8080/"
        },
        "id": "32PSK3ER96Ue",
        "outputId": "a08b405e-1652-46a5-8c01-4c27732edc2d"
      },
      "execution_count": 53,
      "outputs": [
        {
          "output_type": "execute_result",
          "data": {
            "text/plain": [
              "['lr_model.joblib']"
            ]
          },
          "metadata": {},
          "execution_count": 53
        }
      ]
    },
    {
      "cell_type": "code",
      "source": [
        "import numpy as np\n",
        "\n",
        "def sigmoid(z):\n",
        "  return 1/(1+np.exp(-z))\n",
        "\n",
        "def loss_ce(y_p,y):\n",
        "  epsilon = 1e-15\n",
        "  y_p = np.clip(y_p, epsilon, 1-epsilon)\n",
        "  return np.mean(-y*np.log(y_p) - (1-y)*np.log(1-y_p))\n",
        "\n",
        "def lr_gradient(X, y_p, y):\n",
        "  m = X.shape[0]\n",
        "  error = y_p - y\n",
        "  grad_w = (1/m) * np.dot(X.T, error)\n",
        "  grad_b = (1/m) * np.sum(error)\n",
        "  return grad_w, grad_b\n",
        "\n",
        "\n",
        "def train_lr(X, y, lr=0.1, epochs=1000):\n",
        "    m, n = X.shape\n",
        "    w = np.zeros(n)\n",
        "    b = 0\n",
        "    for epoch in range(epochs):\n",
        "        z = np.dot(X, w) + b\n",
        "        y_p = sigmoid(z)\n",
        "        loss = loss_ce(y_p, y)\n",
        "        grad_w, grad_b = lr_gradient(X, y_p, y)\n",
        "        w -= lr * grad_w\n",
        "        b -= lr * grad_b\n",
        "\n",
        "    return w, b\n",
        "\n",
        "def predict(X, w, b, threshold=0.5):\n",
        "    z = np.dot(X, w) + b\n",
        "    y_p = sigmoid(z)\n",
        "    return (y_p >= threshold).astype(int)\n",
        "\n",
        "w, b = train_lr(X_train2.values, y_train2.values, lr=0.01, epochs=1000)\n",
        "y_val_pred = predict(X_val.values, w, b)\n",
        "print(accuracy_score(y_val, y_val_pred), recall_score(y_val, y_val_pred), f1_score(y_val, y_val_pred))"
      ],
      "metadata": {
        "colab": {
          "base_uri": "https://localhost:8080/"
        },
        "id": "NvDeJ62Lt40-",
        "outputId": "07bdd3fe-ac1c-4b17-c350-82326adc0fa2"
      },
      "execution_count": 37,
      "outputs": [
        {
          "output_type": "stream",
          "name": "stdout",
          "text": [
            "0.7093933463796478 0.82 0.21635883905013192\n"
          ]
        }
      ]
    },
    {
      "cell_type": "code",
      "source": [
        "import joblib\n",
        "model_params = {'w': w, 'b': b}\n",
        "joblib.dump(model_params, 'lr_scratch.joblib')"
      ],
      "metadata": {
        "colab": {
          "base_uri": "https://localhost:8080/"
        },
        "id": "kRP9OlHI-TKu",
        "outputId": "8b6478b6-14c4-4675-a60e-0a7337a9c00f"
      },
      "execution_count": 52,
      "outputs": [
        {
          "output_type": "execute_result",
          "data": {
            "text/plain": [
              "['lr_scratch.joblib']"
            ]
          },
          "metadata": {},
          "execution_count": 52
        }
      ]
    },
    {
      "cell_type": "markdown",
      "source": [
        "## Decision Tree"
      ],
      "metadata": {
        "id": "wm33PD4mvbiB"
      }
    },
    {
      "cell_type": "code",
      "source": [
        "dtree = DecisionTreeClassifier(max_depth=5, random_state=42)\n",
        "dtree.fit(X_train2, y_train2)\n",
        "y_val_pred = dtree.predict(X_val)\n",
        "print(accuracy_score(y_val, y_val_pred), recall_score(y_val, y_val_pred), f1_score(y_val, y_val_pred))"
      ],
      "metadata": {
        "colab": {
          "base_uri": "https://localhost:8080/"
        },
        "id": "Nx9GcnD4ut8a",
        "outputId": "0b1fe23e-4bac-4376-bbd5-726bff045a89"
      },
      "execution_count": 38,
      "outputs": [
        {
          "output_type": "stream",
          "name": "stdout",
          "text": [
            "0.6966731898238747 0.78 0.20103092783505155\n"
          ]
        }
      ]
    },
    {
      "cell_type": "code",
      "source": [
        "import joblib\n",
        "joblib.dump(dtree, 'dtree_lib.joblib')"
      ],
      "metadata": {
        "colab": {
          "base_uri": "https://localhost:8080/"
        },
        "id": "CI594cVl-hHk",
        "outputId": "51436e9f-6593-408e-c9d2-0661fbd7985b"
      },
      "execution_count": 54,
      "outputs": [
        {
          "output_type": "execute_result",
          "data": {
            "text/plain": [
              "['dtree_lib.joblib']"
            ]
          },
          "metadata": {},
          "execution_count": 54
        }
      ]
    },
    {
      "cell_type": "code",
      "source": [
        "import numpy as np\n",
        "from collections import Counter\n",
        "\n",
        "def entropy(y):\n",
        "    counts = np.bincount(y)\n",
        "    probabilities = counts / len(y)\n",
        "    return -np.sum([p * np.log2(p) for p in probabilities if p > 0])\n",
        "\n",
        "def split(X_column, threshold):\n",
        "    left_indices = np.where(X_column <= threshold)[0]\n",
        "    right_indices = np.where(X_column > threshold)[0]\n",
        "    return left_indices, right_indices\n",
        "\n",
        "def information_gain(y, left_indices, right_indices):\n",
        "    parent_entropy = entropy(y)\n",
        "    n = len(y)\n",
        "    n_left, n_right = len(left_indices), len(right_indices)\n",
        "\n",
        "    if n_left == 0 or n_right == 0:\n",
        "        return 0\n",
        "\n",
        "    left_entropy = entropy(y[left_indices])\n",
        "    right_entropy = entropy(y[right_indices])\n",
        "    child_entropy = (n_left/n) * left_entropy + (n_right/n) * right_entropy\n",
        "\n",
        "    return parent_entropy - child_entropy\n",
        "def best_split(X, y):\n",
        "    best_gain = -1\n",
        "    split_idx, split_thresh = None, None\n",
        "    n_samples, n_features = X.shape\n",
        "\n",
        "    for feature_index in range(n_features):\n",
        "        thresholds = np.unique(X[:, feature_index])\n",
        "        for threshold in thresholds:\n",
        "            left_indices, right_indices = split(X[:, feature_index], threshold)\n",
        "            gain = information_gain(y, left_indices, right_indices)\n",
        "\n",
        "            if gain > best_gain:\n",
        "                best_gain = gain\n",
        "                split_idx = feature_index\n",
        "                split_thresh = threshold\n",
        "\n",
        "    return split_idx, split_thresh\n",
        "\n",
        "class Node:\n",
        "    def __init__(self, feature=None, threshold=None, left=None, right=None, *, value=None):\n",
        "        self.feature = feature\n",
        "        self.threshold = threshold\n",
        "        self.left = left\n",
        "        self.right = right\n",
        "        self.value = value  # dùng cho leaf node\n",
        "\n",
        "    def is_leaf_node(self):\n",
        "        return self.value is not None\n",
        "\n",
        "def build_tree(X, y, depth=0, max_depth=3):\n",
        "    num_samples_per_class = Counter(y)\n",
        "    most_common = num_samples_per_class.most_common(1)[0][0]\n",
        "\n",
        "    # Stopping conditions\n",
        "    if depth >= max_depth or len(np.unique(y)) == 1:\n",
        "        return Node(value=most_common)\n",
        "\n",
        "    feature_idx, threshold = best_split(X, y)\n",
        "    if feature_idx is None:\n",
        "        return Node(value=most_common)\n",
        "\n",
        "    left_indices, right_indices = split(X[:, feature_idx], threshold)\n",
        "    left = build_tree(X[left_indices, :], y[left_indices], depth + 1, max_depth)\n",
        "    right = build_tree(X[right_indices, :], y[right_indices], depth + 1, max_depth)\n",
        "    return Node(feature=feature_idx, threshold=threshold, left=left, right=right)\n",
        "\n",
        "def predict_one(x, node):\n",
        "    while not node.is_leaf_node():\n",
        "        if x[node.feature] <= node.threshold:\n",
        "            node = node.left\n",
        "        else:\n",
        "            node = node.right\n",
        "    return node.value\n",
        "\n",
        "def predict(X, tree):\n",
        "    return np.array([predict_one(x, tree) for x in X])\n",
        "\n",
        "# Giả sử bạn đã có X_train, y_train, X_test\n",
        "tree = build_tree(X_train2.values, y_train2.values, max_depth=5)\n",
        "y_val_pred = predict(X_val.values, tree)\n",
        "print(accuracy_score(y_val, y_val_pred), recall_score(y_val, y_val_pred), f1_score(y_val, y_val_pred))"
      ],
      "metadata": {
        "colab": {
          "base_uri": "https://localhost:8080/"
        },
        "id": "9hRNiNvSvuDV",
        "outputId": "2bb24079-22d5-4eed-b654-4f008d2f77ca"
      },
      "execution_count": 39,
      "outputs": [
        {
          "output_type": "stream",
          "name": "stdout",
          "text": [
            "0.6741682974559687 0.78 0.1897810218978102\n"
          ]
        }
      ]
    },
    {
      "cell_type": "markdown",
      "source": [
        "## Random Forest"
      ],
      "metadata": {
        "id": "9WUP-fK6wO7T"
      }
    },
    {
      "cell_type": "code",
      "source": [
        "rf = RandomForestClassifier(n_estimators=100, max_depth=5, random_state=42)\n",
        "rf.fit(X_train2, y_train2)\n",
        "y_val_pred = rf.predict(X_val)\n",
        "print(accuracy_score(y_val, y_val_pred), recall_score(y_val, y_val_pred), f1_score(y_val, y_val_pred))"
      ],
      "metadata": {
        "colab": {
          "base_uri": "https://localhost:8080/"
        },
        "id": "J5mab0Ruv6W5",
        "outputId": "f7dc619f-0274-4e50-b34c-d5e460d9c34d"
      },
      "execution_count": 40,
      "outputs": [
        {
          "output_type": "stream",
          "name": "stdout",
          "text": [
            "0.6927592954990215 0.84 0.21105527638190955\n"
          ]
        }
      ]
    },
    {
      "cell_type": "code",
      "source": [
        "import numpy as np\n",
        "from collections import Counter\n",
        "from typing import List, Tuple, Any\n",
        "\n",
        "class DecisionNode:\n",
        "    def __init__(self, feature_idx: int = None, threshold: float = None,\n",
        "                 left = None, right = None, value: Any = None):\n",
        "        self.feature_idx = feature_idx  # Index of feature to split on\n",
        "        self.threshold = threshold      # Threshold value for split\n",
        "        self.left = left               # Left child node\n",
        "        self.right = right             # Right child node\n",
        "        self.value = value             # Predicted value for leaf node\n",
        "\n",
        "class DecisionTree:\n",
        "    def __init__(self, max_depth: int = None, min_samples_split: int = 2):\n",
        "        self.max_depth = max_depth\n",
        "        self.min_samples_split = min_samples_split\n",
        "        self.root = None\n",
        "\n",
        "    def fit(self, X: np.ndarray, y: np.ndarray) -> None:\n",
        "        self.root = self._grow_tree(X, y, depth=0)\n",
        "\n",
        "    def _grow_tree(self, X: np.ndarray, y: np.ndarray, depth: int) -> DecisionNode:\n",
        "        n_samples, n_features = X.shape\n",
        "        n_classes = len(np.unique(y))\n",
        "\n",
        "        # Stopping criteria\n",
        "        if (self.max_depth is not None and depth >= self.max_depth) or \\\n",
        "           n_samples < self.min_samples_split or \\\n",
        "           n_classes == 1:\n",
        "            return DecisionNode(value=self._most_common_label(y))\n",
        "\n",
        "        # Find best split\n",
        "        best_gain = -1\n",
        "        best_split = None\n",
        "        # Randomly select features to consider\n",
        "        feature_indices = np.random.choice(n_features, int(np.sqrt(n_features)), replace=False)\n",
        "\n",
        "        for feature_idx in feature_indices:\n",
        "          values = np.sort(np.unique(X[:, feature_idx]))\n",
        "          thresholds = (values[:-1] + values[1:]) / 2  # Midpoints\n",
        "          for threshold in thresholds:\n",
        "              left_indices = X[:, feature_idx] <= threshold\n",
        "              right_indices = X[:, feature_idx] > threshold\n",
        "\n",
        "              if sum(left_indices) == 0 or sum(right_indices) == 0:\n",
        "                  continue\n",
        "\n",
        "              gain = self._information_gain(y, left_indices, right_indices)\n",
        "              if gain > best_gain:\n",
        "                  best_gain = gain\n",
        "                  best_split = (feature_idx, threshold)\n",
        "\n",
        "        if best_gain == -1:\n",
        "                return DecisionNode(value=self._most_common_label(y))\n",
        "\n",
        "        # Create child splits\n",
        "        feature_idx, threshold = best_split\n",
        "        left_indices = X[:, feature_idx] <= threshold\n",
        "        right_indices = X[:, feature_idx] > threshold\n",
        "\n",
        "        left = self._grow_tree(X[left_indices], y[left_indices], depth + 1)\n",
        "        right = self._grow_tree(X[right_indices], y[right_indices], depth + 1)\n",
        "        return DecisionNode(feature_idx, threshold, left, right)\n",
        "\n",
        "    def _information_gain(self, y: np.ndarray, left_indices: np.ndarray,\n",
        "                         right_indices: np.ndarray) -> float:\n",
        "        parent_entropy = self._entropy(y)\n",
        "\n",
        "        n = len(y)\n",
        "        n_left, n_right = sum(left_indices), sum(right_indices)\n",
        "        if n_left == 0 or n_right == 0:\n",
        "            return 0\n",
        "\n",
        "        child_entropy = (n_left / n) * self._entropy(y[left_indices]) + \\\n",
        "                       (n_right / n) * self._entropy(y[right_indices])\n",
        "        return parent_entropy - child_entropy\n",
        "\n",
        "    def _entropy(self, y: np.ndarray) -> float:\n",
        "        proportions = np.bincount(y) / len(y)\n",
        "        return -np.sum([p * np.log2(p) for p in proportions if p > 0])\n",
        "\n",
        "    def _most_common_label(self, y: np.ndarray) -> Any:\n",
        "        return Counter(y).most_common(1)[0][0]\n",
        "\n",
        "    def predict(self, X: np.ndarray) -> np.ndarray:\n",
        "        return np.array([self._traverse_tree(x, self.root) for x in X])\n",
        "\n",
        "    def _traverse_tree(self, x: np.ndarray, node: DecisionNode) -> Any:\n",
        "        if node.value is not None:\n",
        "            return node.value\n",
        "        if x[node.feature_idx] <= node.threshold:\n",
        "            return self._traverse_tree(x, node.left)\n",
        "        return self._traverse_tree(x, node.right)\n",
        "\n",
        "class RandomForest:\n",
        "    def __init__(self, n_estimators: int = 100, max_depth: int = None,\n",
        "                 min_samples_split: int = 2, bootstrap: bool = True):\n",
        "        self.n_estimators = n_estimators\n",
        "        self.max_depth = max_depth\n",
        "        self.min_samples_split = min_samples_split\n",
        "        self.bootstrap = bootstrap\n",
        "        self.trees = []\n",
        "\n",
        "    def fit(self, X: np.ndarray, y: np.ndarray) -> None:\n",
        "        self.trees = []\n",
        "        n_samples = X.shape[0]\n",
        "\n",
        "        for _ in range(self.n_estimators):\n",
        "            # Create bootstrap sample\n",
        "            if self.bootstrap:\n",
        "                indices = np.random.choice(n_samples, n_samples, replace=True)\n",
        "                X_sample = X[indices]\n",
        "                y_sample = y[indices]\n",
        "            else:\n",
        "                X_sample, y_sample = X, y\n",
        "\n",
        "            # Train decision tree\n",
        "            tree = DecisionTree(max_depth=self.max_depth,\n",
        "                              min_samples_split=self.min_samples_split)\n",
        "            tree.fit(X_sample, y_sample)\n",
        "            self.trees.append(tree)\n",
        "\n",
        "    def predict(self, X: np.ndarray) -> np.ndarray:\n",
        "        # Get predictions from all trees\n",
        "        tree_preds = np.array([tree.predict(X) for tree in self.trees])\n",
        "        # Majority vote\n",
        "        return np.apply_along_axis(lambda x: Counter(x).most_common(1)[0][0], axis=0, arr=tree_preds)\n",
        "\n",
        "# Example usage:\n",
        "if __name__ == \"__main__\":\n",
        "    rf = RandomForest(n_estimators=50, max_depth=10, min_samples_split=2)\n",
        "    rf.fit(X_train2.values, y_train2.values)\n"
      ],
      "metadata": {
        "colab": {
          "base_uri": "https://localhost:8080/",
          "height": 200
        },
        "id": "8REuRDlvwZlt",
        "outputId": "5f58acfa-06f6-495b-a024-e6061da61f32"
      },
      "execution_count": 42,
      "outputs": [
        {
          "output_type": "error",
          "ename": "TypeError",
          "evalue": "predict() takes 2 positional arguments but 3 were given",
          "traceback": [
            "\u001b[0;31m---------------------------------------------------------------------------\u001b[0m",
            "\u001b[0;31mTypeError\u001b[0m                                 Traceback (most recent call last)",
            "\u001b[0;32m<ipython-input-42-7c9e7cfd3cc2>\u001b[0m in \u001b[0;36m<cell line: 0>\u001b[0;34m()\u001b[0m\n\u001b[1;32m    132\u001b[0m     \u001b[0mrf\u001b[0m \u001b[0;34m=\u001b[0m \u001b[0mRandomForest\u001b[0m\u001b[0;34m(\u001b[0m\u001b[0mn_estimators\u001b[0m\u001b[0;34m=\u001b[0m\u001b[0;36m50\u001b[0m\u001b[0;34m,\u001b[0m \u001b[0mmax_depth\u001b[0m\u001b[0;34m=\u001b[0m\u001b[0;36m10\u001b[0m\u001b[0;34m,\u001b[0m \u001b[0mmin_samples_split\u001b[0m\u001b[0;34m=\u001b[0m\u001b[0;36m2\u001b[0m\u001b[0;34m)\u001b[0m\u001b[0;34m\u001b[0m\u001b[0;34m\u001b[0m\u001b[0m\n\u001b[1;32m    133\u001b[0m     \u001b[0mrf\u001b[0m\u001b[0;34m.\u001b[0m\u001b[0mfit\u001b[0m\u001b[0;34m(\u001b[0m\u001b[0mX_train2\u001b[0m\u001b[0;34m.\u001b[0m\u001b[0mvalues\u001b[0m\u001b[0;34m,\u001b[0m \u001b[0my_train2\u001b[0m\u001b[0;34m.\u001b[0m\u001b[0mvalues\u001b[0m\u001b[0;34m)\u001b[0m\u001b[0;34m\u001b[0m\u001b[0;34m\u001b[0m\u001b[0m\n\u001b[0;32m--> 134\u001b[0;31m     \u001b[0my_val_pred\u001b[0m \u001b[0;34m=\u001b[0m \u001b[0mpredict\u001b[0m\u001b[0;34m(\u001b[0m\u001b[0mX_val\u001b[0m\u001b[0;34m.\u001b[0m\u001b[0mvalues\u001b[0m\u001b[0;34m,\u001b[0m \u001b[0mw\u001b[0m\u001b[0;34m,\u001b[0m \u001b[0mb\u001b[0m\u001b[0;34m)\u001b[0m\u001b[0;34m\u001b[0m\u001b[0;34m\u001b[0m\u001b[0m\n\u001b[0m\u001b[1;32m    135\u001b[0m     \u001b[0mprint\u001b[0m\u001b[0;34m(\u001b[0m\u001b[0maccuracy_score\u001b[0m\u001b[0;34m(\u001b[0m\u001b[0my_val\u001b[0m\u001b[0;34m,\u001b[0m \u001b[0my_val_pred\u001b[0m\u001b[0;34m)\u001b[0m\u001b[0;34m,\u001b[0m \u001b[0mrecall_score\u001b[0m\u001b[0;34m(\u001b[0m\u001b[0my_val\u001b[0m\u001b[0;34m,\u001b[0m \u001b[0my_val_pred\u001b[0m\u001b[0;34m)\u001b[0m\u001b[0;34m,\u001b[0m \u001b[0mf1_score\u001b[0m\u001b[0;34m(\u001b[0m\u001b[0my_val\u001b[0m\u001b[0;34m,\u001b[0m \u001b[0my_val_pred\u001b[0m\u001b[0;34m)\u001b[0m\u001b[0;34m)\u001b[0m\u001b[0;34m\u001b[0m\u001b[0;34m\u001b[0m\u001b[0m\n",
            "\u001b[0;31mTypeError\u001b[0m: predict() takes 2 positional arguments but 3 were given"
          ]
        }
      ]
    },
    {
      "cell_type": "code",
      "source": [
        "y_val_pred = rf.predict(X_val.values)\n",
        "print(accuracy_score(y_val, y_val_pred), recall_score(y_val, y_val_pred), f1_score(y_val, y_val_pred))"
      ],
      "metadata": {
        "colab": {
          "base_uri": "https://localhost:8080/"
        },
        "id": "7be_TC-45Uxx",
        "outputId": "e8112431-c733-44a5-a73c-9457006c3f08"
      },
      "execution_count": 43,
      "outputs": [
        {
          "output_type": "stream",
          "name": "stdout",
          "text": [
            "0.7749510763209393 0.66 0.22297297297297297\n"
          ]
        }
      ]
    },
    {
      "cell_type": "markdown",
      "source": [
        "## Elastic Net"
      ],
      "metadata": {
        "id": "rYvOdX5Yzw09"
      }
    },
    {
      "cell_type": "code",
      "source": [
        "elastic_net_model = LogisticRegression(\n",
        "    penalty='elasticnet',\n",
        "    solver='saga',\n",
        "    C=0.01,\n",
        "    l1_ratio=0.5,\n",
        "    max_iter=1000,\n",
        "    random_state=42\n",
        ")\n",
        "\n",
        "elastic_net_model.fit(X_train2, y_train2)\n",
        "y_val_pred = elastic_net_model.predict(X_val)\n",
        "print(accuracy_score(y_val, y_val_pred), recall_score(y_val, y_val_pred), f1_score(y_val, y_val_pred))"
      ],
      "metadata": {
        "colab": {
          "base_uri": "https://localhost:8080/"
        },
        "id": "8SAFBch0w4dA",
        "outputId": "449f93ba-0d49-4fd6-d2c0-f93b334b7a7a"
      },
      "execution_count": 44,
      "outputs": [
        {
          "output_type": "stream",
          "name": "stdout",
          "text": [
            "0.7426614481409002 0.8 0.23323615160349853\n"
          ]
        }
      ]
    },
    {
      "cell_type": "code",
      "source": [
        "import numpy as np\n",
        "from sklearn.metrics import accuracy_score, recall_score, f1_score\n",
        "\n",
        "def sigmoid(z):\n",
        "    return 1 / (1 + np.exp(-z))\n",
        "\n",
        "def loss_elastic_net(y_p, y, w, alpha=0.01, l1_ratio=0.5):\n",
        "    \"\"\"\n",
        "    alpha: tổng hệ số regularization\n",
        "    l1_ratio: tỉ lệ L1 trong tổng regularization (0 = Ridge, 1 = Lasso)\n",
        "    \"\"\"\n",
        "    epsilon = 1e-15\n",
        "    y_p = np.clip(y_p, epsilon, 1 - epsilon)\n",
        "    loss_ce = -np.mean(y * np.log(y_p) + (1 - y) * np.log(1 - y_p))\n",
        "    l1 = l1_ratio * np.sum(np.abs(w))\n",
        "    l2 = (1 - l1_ratio) * 0.5 * np.sum(w**2)\n",
        "    return loss_ce + alpha * (l1 + l2)\n",
        "\n",
        "def lr_gradient_elastic(X, y_p, y, w, alpha=0.01, l1_ratio=0.5):\n",
        "    m = X.shape[0]\n",
        "    error = y_p - y\n",
        "    grad_w = (1/m) * np.dot(X.T, error)\n",
        "    grad_b = (1/m) * np.sum(error)\n",
        "\n",
        "    # Elastic Net Regularization Gradient\n",
        "    grad_w += alpha * (l1_ratio * np.sign(w) + (1 - l1_ratio) * w)\n",
        "    return grad_w, grad_b\n",
        "\n",
        "def train_elastic_lr(X, y, lr=0.01, epochs=1000, alpha=0.01, l1_ratio=0.5):\n",
        "    m, n = X.shape\n",
        "    w = np.zeros(n)\n",
        "    b = 0\n",
        "\n",
        "    for epoch in range(epochs):\n",
        "        z = np.dot(X, w) + b\n",
        "        y_p = sigmoid(z)\n",
        "        loss = loss_elastic_net(y_p, y, w, alpha, l1_ratio)\n",
        "        grad_w, grad_b = lr_gradient_elastic(X, y_p, y, w, alpha, l1_ratio)\n",
        "        w -= lr * grad_w\n",
        "        b -= lr * grad_b\n",
        "\n",
        "    return w, b\n",
        "\n",
        "def predict(X, w, b, threshold=0.5):\n",
        "    z = np.dot(X, w) + b\n",
        "    y_p = sigmoid(z)\n",
        "    return (y_p >= threshold).astype(int)\n",
        "\n",
        "w, b = train_elastic_lr(\n",
        "    X_train2.values, y_train2.values,\n",
        "    lr=0.01,\n",
        "    epochs=1000,\n",
        "    alpha=0.01,\n",
        "    l1_ratio=0.5\n",
        ")\n",
        "\n",
        "y_val_pred = predict(X_val.values, w, b)\n",
        "print(accuracy_score(y_val, y_val_pred), recall_score(y_val, y_val_pred), f1_score(y_val, y_val_pred))"
      ],
      "metadata": {
        "colab": {
          "base_uri": "https://localhost:8080/"
        },
        "id": "0AiamavU5fsH",
        "outputId": "fb447d08-cc4e-4bb2-f343-f7421cd95ecc"
      },
      "execution_count": 45,
      "outputs": [
        {
          "output_type": "stream",
          "name": "stdout",
          "text": [
            "0.7074363992172211 0.82 0.2152230971128609\n"
          ]
        }
      ]
    },
    {
      "cell_type": "markdown",
      "source": [
        "## XGBoost"
      ],
      "metadata": {
        "id": "KCaWP_q15k53"
      }
    },
    {
      "cell_type": "code",
      "source": [
        "xgb_model = XGBClassifier(\n",
        "    learning_rate=0.05,\n",
        "    max_depth=5,\n",
        "    n_estimators=50,\n",
        "    eval_metric='logloss',     # metric phổ biến cho classification\n",
        "    random_state=42\n",
        ")\n",
        "\n",
        "xgb_model.fit(X_train2, y_train2)\n",
        "y_val_pred = xgb_model.predict(X_val)\n",
        "print(accuracy_score(y_val, y_val_pred), recall_score(y_val, y_val_pred), f1_score(y_val, y_val_pred))"
      ],
      "metadata": {
        "colab": {
          "base_uri": "https://localhost:8080/"
        },
        "id": "qYcru8xJ5g6h",
        "outputId": "878638fe-1356-423a-8bc2-40ed72b50c6b"
      },
      "execution_count": 48,
      "outputs": [
        {
          "output_type": "stream",
          "name": "stdout",
          "text": [
            "0.7514677103718199 0.72 0.22085889570552147\n"
          ]
        }
      ]
    },
    {
      "cell_type": "code",
      "source": [
        "import numpy as np\n",
        "import pandas as pd\n",
        "\n",
        "class Node:\n",
        "    '''\n",
        "    Node của cây quyết định cho XGBoost regression tree.\n",
        "    '''\n",
        "\n",
        "    def __init__(self, x, gradient, hessian, idxs,\n",
        "                 subsample_cols=0.8, min_leaf=5, min_child_weight=1,\n",
        "                 depth=10, lambda_=1, gamma=1, eps=0.1):\n",
        "        self.x = x\n",
        "        self.gradient = gradient\n",
        "        self.hessian = hessian\n",
        "        self.idxs = idxs\n",
        "        self.depth = depth\n",
        "        self.min_leaf = min_leaf\n",
        "        self.lambda_ = lambda_\n",
        "        self.gamma = gamma\n",
        "        self.min_child_weight = min_child_weight\n",
        "        self.row_count = len(idxs)\n",
        "        self.col_count = x.shape[1]\n",
        "        self.subsample_cols = subsample_cols\n",
        "        self.eps = eps\n",
        "\n",
        "        # Random chọn cột để phân chia\n",
        "        self.column_subsample = np.random.permutation(self.col_count)[:round(self.subsample_cols * self.col_count)]\n",
        "\n",
        "        # Giá trị lá (leaf value)\n",
        "        self.val = self.compute_gamma(self.gradient[self.idxs], self.hessian[self.idxs])\n",
        "\n",
        "        # Điểm score tốt nhất tìm được\n",
        "        self.score = float('-inf')\n",
        "        self.var_idx = None\n",
        "        self.split = None\n",
        "        self.lhs = None\n",
        "        self.rhs = None\n",
        "\n",
        "        self.find_varsplit()\n",
        "\n",
        "    def compute_gamma(self, gradient, hessian):\n",
        "        '''Tính giá trị leaf (equation (5) trong XGBoost paper)'''\n",
        "        return -np.sum(gradient) / (np.sum(hessian) + self.lambda_)\n",
        "\n",
        "    def find_varsplit(self):\n",
        "        '''Tìm biến và điểm split tốt nhất'''\n",
        "        for c in self.column_subsample:\n",
        "            self.find_greedy_split(c)\n",
        "        if self.is_leaf:\n",
        "            return\n",
        "        x_col = self.split_col\n",
        "        lhs = np.nonzero(x_col <= self.split)[0]\n",
        "        rhs = np.nonzero(x_col > self.split)[0]\n",
        "        self.lhs = Node(self.x, self.gradient, self.hessian, self.idxs[lhs],\n",
        "                        self.subsample_cols, self.min_leaf, self.min_child_weight,\n",
        "                        self.depth - 1, self.lambda_, self.gamma, self.eps)\n",
        "        self.rhs = Node(self.x, self.gradient, self.hessian, self.idxs[rhs],\n",
        "                        self.subsample_cols, self.min_leaf, self.min_child_weight,\n",
        "                        self.depth - 1, self.lambda_, self.gamma, self.eps)\n",
        "\n",
        "    def find_greedy_split(self, var_idx):\n",
        "        '''Tìm điểm split greedy tốt nhất trên cột var_idx'''\n",
        "        x = self.x[self.idxs, var_idx]\n",
        "        for r in range(self.row_count):\n",
        "            lhs = x <= x[r]\n",
        "            rhs = x > x[r]\n",
        "\n",
        "            lhs_indices = np.nonzero(lhs)[0]\n",
        "            rhs_indices = np.nonzero(rhs)[0]\n",
        "\n",
        "            if (rhs.sum() < self.min_leaf or lhs.sum() < self.min_leaf or\n",
        "                self.hessian[self.idxs[lhs_indices]].sum() < self.min_child_weight or\n",
        "                self.hessian[self.idxs[rhs_indices]].sum() < self.min_child_weight):\n",
        "                continue\n",
        "\n",
        "            curr_score = self.gain(lhs, rhs)\n",
        "            if curr_score > self.score:\n",
        "                self.var_idx = var_idx\n",
        "                self.score = curr_score\n",
        "                self.split = x[r]\n",
        "\n",
        "    def gain(self, lhs, rhs):\n",
        "        '''Tính gain (equation (7) trong XGBoost paper)'''\n",
        "        gradient = self.gradient[self.idxs]\n",
        "        hessian = self.hessian[self.idxs]\n",
        "\n",
        "        lhs_gradient = gradient[lhs].sum()\n",
        "        lhs_hessian = hessian[lhs].sum()\n",
        "        rhs_gradient = gradient[rhs].sum()\n",
        "        rhs_hessian = hessian[rhs].sum()\n",
        "\n",
        "        gain = 0.5 * (\n",
        "            (lhs_gradient ** 2) / (lhs_hessian + self.lambda_) +\n",
        "            (rhs_gradient ** 2) / (rhs_hessian + self.lambda_) -\n",
        "            ((lhs_gradient + rhs_gradient) ** 2) / (lhs_hessian + rhs_hessian + self.lambda_)\n",
        "        ) - self.gamma\n",
        "\n",
        "        return gain\n",
        "\n",
        "    @property\n",
        "    def split_col(self):\n",
        "        return self.x[self.idxs, self.var_idx]\n",
        "\n",
        "    @property\n",
        "    def is_leaf(self):\n",
        "        return self.score == float('-inf') or self.depth <= 0\n",
        "\n",
        "    def predict(self, x):\n",
        "        return np.array([self.predict_row(xi) for xi in x])\n",
        "\n",
        "    def predict_row(self, xi):\n",
        "        if self.is_leaf:\n",
        "            return self.val\n",
        "        node = self.lhs if xi[self.var_idx] <= self.split else self.rhs\n",
        "        return node.predict_row(xi)\n",
        "\n",
        "\n",
        "class XGBoostTree:\n",
        "    '''\n",
        "    Wrapper cây đơn (regression tree) trong XGBoost\n",
        "    '''\n",
        "    def fit(self, x, gradient, hessian, subsample_cols=0.8,\n",
        "            min_leaf=5, min_child_weight=1, depth=10, lambda_=1, gamma=1, eps=0.1):\n",
        "        self.dtree = Node(x, gradient, hessian, np.arange(len(x)),\n",
        "                          subsample_cols, min_leaf, min_child_weight,\n",
        "                          depth, lambda_, gamma, eps)\n",
        "        return self\n",
        "\n",
        "    def predict(self, X):\n",
        "        return self.dtree.predict(X)\n",
        "\n",
        "\n",
        "class XGBoostClassifier:\n",
        "    '''\n",
        "    XGBoost cho bài toán phân loại nhị phân (binary classification)\n",
        "    '''\n",
        "    def __init__(self):\n",
        "        self.estimators = []\n",
        "\n",
        "    @staticmethod\n",
        "    def sigmoid(x):\n",
        "        return 1 / (1 + np.exp(-x))\n",
        "\n",
        "    def grad(self, preds, labels):\n",
        "        preds = self.sigmoid(preds)\n",
        "        return preds - labels\n",
        "\n",
        "    def hess(self, preds, labels):\n",
        "        preds = self.sigmoid(preds)\n",
        "        return preds * (1 - preds)\n",
        "\n",
        "    def fit(self, X, y, subsample_cols=0.8, min_child_weight=1, depth=5, min_leaf=5,\n",
        "            learning_rate=0.4, boosting_rounds=5, lambda_=1.5, gamma=1, eps=0.1):\n",
        "        self.X = X.values if isinstance(X, pd.DataFrame) else X\n",
        "        self.y = y.values if isinstance(y, pd.Series) else y\n",
        "        self.depth = depth\n",
        "        self.subsample_cols = subsample_cols\n",
        "        self.eps = eps\n",
        "        self.min_child_weight = min_child_weight\n",
        "        self.min_leaf = min_leaf\n",
        "        self.learning_rate = learning_rate\n",
        "        self.boosting_rounds = boosting_rounds\n",
        "        self.lambda_ = lambda_\n",
        "        self.gamma = gamma\n",
        "\n",
        "        # Khởi tạo dự đoán ban đầu (log odds của tỉ lệ dương)\n",
        "        p = np.mean(self.y)\n",
        "        self.base_pred = np.full(self.X.shape[0], np.log(p / (1 - p)))\n",
        "\n",
        "        for _ in range(self.boosting_rounds):\n",
        "            Grad = self.grad(self.base_pred, self.y)\n",
        "            Hess = self.hess(self.base_pred, self.y)\n",
        "            tree = XGBoostTree().fit(self.X, Grad, Hess,\n",
        "                                     subsample_cols=self.subsample_cols,\n",
        "                                     min_leaf=self.min_leaf,\n",
        "                                     min_child_weight=self.min_child_weight,\n",
        "                                     depth=self.depth,\n",
        "                                     lambda_=self.lambda_,\n",
        "                                     gamma=self.gamma,\n",
        "                                     eps=self.eps)\n",
        "            update = tree.predict(self.X)\n",
        "            self.base_pred += self.learning_rate * update\n",
        "            self.estimators.append(tree)\n",
        "\n",
        "        return self\n",
        "\n",
        "    def predict_proba(self, X):\n",
        "        X = X.values if isinstance(X, pd.DataFrame) else X\n",
        "        pred = np.full(X.shape[0], self.base_pred[0])\n",
        "        for tree in self.estimators:\n",
        "            pred += self.learning_rate * tree.predict(X)\n",
        "        proba = self.sigmoid(pred)\n",
        "        return np.vstack((1 - proba, proba)).T\n",
        "\n",
        "    def predict(self, X):\n",
        "        proba = self.predict_proba(X)[:, 1]\n",
        "        return (proba >= 0.5).astype(int)\n",
        "\n",
        "model = XGBoostClassifier()\n",
        "model.fit(X_train2.values, y_train2.values)\n",
        "y_val_pred = model.predict(X_val.values)\n",
        "print(accuracy_score(y_val, y_val_pred), recall_score(y_val, y_val_pred), f1_score(y_val, y_val_pred))\n"
      ],
      "metadata": {
        "id": "j31HdDIP52X_"
      },
      "execution_count": null,
      "outputs": []
    },
    {
      "cell_type": "code",
      "source": [],
      "metadata": {
        "id": "oyYcsSy79CLs"
      },
      "execution_count": null,
      "outputs": []
    }
  ]
}